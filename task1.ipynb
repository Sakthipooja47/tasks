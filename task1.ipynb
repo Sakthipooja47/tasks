{
  "nbformat": 4,
  "nbformat_minor": 0,
  "metadata": {
    "colab": {
      "provenance": [],
      "mount_file_id": "1np-XRj_foG0u2x-ulPx3z7VcqkoJb4FO",
      "authorship_tag": "ABX9TyPPOrLOwyiQylmI1ha9E0YC",
      "include_colab_link": true
    },
    "kernelspec": {
      "name": "python3",
      "display_name": "Python 3"
    },
    "language_info": {
      "name": "python"
    }
  },
  "cells": [
    {
      "cell_type": "markdown",
      "metadata": {
        "id": "view-in-github",
        "colab_type": "text"
      },
      "source": [
        "<a href=\"https://colab.research.google.com/github/Sakthipooja47/tasks/blob/main/task1.ipynb\" target=\"_parent\"><img src=\"https://colab.research.google.com/assets/colab-badge.svg\" alt=\"Open In Colab\"/></a>"
      ]
    },
    {
      "cell_type": "code",
      "execution_count": null,
      "metadata": {
        "id": "RtD2MLXDNWzD"
      },
      "outputs": [],
      "source": [
        "import numpy as np\n",
        "import pandas as pd\n"
      ]
    },
    {
      "cell_type": "code",
      "source": [
        "df=pd.read_csv('/content/drive/MyDrive/Dataset .csv')"
      ],
      "metadata": {
        "id": "Vxc9XMNqN8fQ"
      },
      "execution_count": null,
      "outputs": []
    },
    {
      "cell_type": "code",
      "source": [
        "df.columns"
      ],
      "metadata": {
        "colab": {
          "base_uri": "https://localhost:8080/"
        },
        "id": "MzYowbeLQgue",
        "outputId": "33ebb617-fcf6-4187-c956-8794395f8151"
      },
      "execution_count": null,
      "outputs": [
        {
          "output_type": "execute_result",
          "data": {
            "text/plain": [
              "Index(['Restaurant ID', 'Restaurant Name', 'Country Code', 'City', 'Address',\n",
              "       'Locality', 'Locality Verbose', 'Longitude', 'Latitude', 'Cuisines',\n",
              "       'Average Cost for two', 'Currency', 'Has Table booking',\n",
              "       'Has Online delivery', 'Is delivering now', 'Switch to order menu',\n",
              "       'Price range', 'Aggregate rating', 'Rating color', 'Rating text',\n",
              "       'Votes'],\n",
              "      dtype='object')"
            ]
          },
          "metadata": {},
          "execution_count": 4
        }
      ]
    },
    {
      "cell_type": "code",
      "source": [
        "table_booking_col=\"Has Table booking\"\n",
        "online_delivery_col=\"Has Online delivery\"\n",
        "rating_col=\"Aggregate rating\"\n",
        "price_range_col=\"Price range\""
      ],
      "metadata": {
        "id": "rb3Oggn-Q4-h"
      },
      "execution_count": null,
      "outputs": []
    },
    {
      "cell_type": "code",
      "source": [
        "df[table_booking_col] = df[table_booking_col].astype(str).str.lower()\n",
        "df[online_delivery_col] = df[online_delivery_col].astype(str).str.lower()\n"
      ],
      "metadata": {
        "id": "hqknwpPDRyMy"
      },
      "execution_count": null,
      "outputs": []
    },
    {
      "cell_type": "code",
      "source": [
        "total_restaurants = len(df)\n",
        "table_booking_percentage = (df[table_booking_col].str.contains(\"yes\").sum() / total_restaurants) * 100\n",
        "online_delivery_percentage = (df[online_delivery_col].str.contains(\"yes\").sum() / total_restaurants) * 100"
      ],
      "metadata": {
        "id": "eAEPMBLsSHTk"
      },
      "execution_count": null,
      "outputs": []
    },
    {
      "cell_type": "code",
      "source": [
        "print(f\"Percentage of restaurants offering table booking: {table_booking_percentage:.2f}%\")\n",
        "print(f\"Percentage of restaurants offering online delivery: {online_delivery_percentage:.2f}%\")\n"
      ],
      "metadata": {
        "colab": {
          "base_uri": "https://localhost:8080/"
        },
        "id": "1BFdgA0-SKZ-",
        "outputId": "a19542f3-d771-4b21-cfd7-8bc268b197f5"
      },
      "execution_count": null,
      "outputs": [
        {
          "output_type": "stream",
          "name": "stdout",
          "text": [
            "Percentage of restaurants offering table booking: 12.12%\n",
            "Percentage of restaurants offering online delivery: 25.66%\n"
          ]
        }
      ]
    },
    {
      "cell_type": "code",
      "source": [
        "with_table_booking = df[df[table_booking_col].str.contains(\"yes\")][rating_col].mean()\n",
        "without_table_booking = df[~df[table_booking_col].str.contains(\"yes\")][rating_col].mean()"
      ],
      "metadata": {
        "id": "zrzaXIxhSNxS"
      },
      "execution_count": null,
      "outputs": []
    },
    {
      "cell_type": "code",
      "source": [
        "print(f\"Average rating with table booking: {with_table_booking:.2f}\")\n",
        "print(f\"Average rating without table booking: {without_table_booking:.2f}\")\n"
      ],
      "metadata": {
        "colab": {
          "base_uri": "https://localhost:8080/"
        },
        "id": "Eojj8wJjSRQ7",
        "outputId": "c8e1c6fe-5d28-4bd2-a84e-b636aa588789"
      },
      "execution_count": null,
      "outputs": [
        {
          "output_type": "stream",
          "name": "stdout",
          "text": [
            "Average rating with table booking: 3.44\n",
            "Average rating without table booking: 2.56\n"
          ]
        }
      ]
    },
    {
      "cell_type": "code",
      "source": [
        "online_delivery_by_price = df.groupby(price_range_col)[online_delivery_col].apply(lambda x: (x.str.contains(\"yes\").sum() / len(x)) * 100)\n",
        "\n",
        "print(\"\\nPercentage of restaurants offering online delivery by price range:\")\n",
        "print(online_delivery_by_price)"
      ],
      "metadata": {
        "colab": {
          "base_uri": "https://localhost:8080/"
        },
        "id": "MTRzs7H3SWZi",
        "outputId": "0e41fad8-06e7-40cb-e6c3-54091436fe9e"
      },
      "execution_count": null,
      "outputs": [
        {
          "output_type": "stream",
          "name": "stdout",
          "text": [
            "\n",
            "Percentage of restaurants offering online delivery by price range:\n",
            "Price range\n",
            "1    15.774077\n",
            "2    41.310633\n",
            "3    29.190341\n",
            "4     9.044369\n",
            "Name: Has Online delivery, dtype: float64\n"
          ]
        }
      ]
    }
  ]
}
{
  "nbformat": 4,
  "nbformat_minor": 0,
  "metadata": {
    "colab": {
      "provenance": [],
      "mount_file_id": "1pbJf7GQfoB_RoQMg02k-EwvUg-_f2DdI",
      "authorship_tag": "ABX9TyOX13gcMQwEt6VAX2aliwpU",
      "include_colab_link": true
    },
    "kernelspec": {
      "name": "python3",
      "display_name": "Python 3"
    },
    "language_info": {
      "name": "python"
    }
  },
  "cells": [
    {
      "cell_type": "markdown",
      "metadata": {
        "id": "view-in-github",
        "colab_type": "text"
      },
      "source": [
        "<a href=\"https://colab.research.google.com/github/Sakthipooja47/tasks/blob/main/task2.ipynb\" target=\"_parent\"><img src=\"https://colab.research.google.com/assets/colab-badge.svg\" alt=\"Open In Colab\"/></a>"
      ]
    },
    {
      "cell_type": "code",
      "execution_count": null,
      "metadata": {
        "id": "ojjD5gqESo7N"
      },
      "outputs": [],
      "source": [
        "import pandas as pd\n",
        "import numpy as np"
      ]
    },
    {
      "cell_type": "code",
      "source": [
        "df=pd.read_csv('/content/drive/MyDrive/Dataset .csv')"
      ],
      "metadata": {
        "id": "un2ywEBZS1kd"
      },
      "execution_count": null,
      "outputs": []
    },
    {
      "cell_type": "code",
      "source": [
        "df.columns"
      ],
      "metadata": {
        "colab": {
          "base_uri": "https://localhost:8080/"
        },
        "id": "dQ8QtjeaTXma",
        "outputId": "4e7ed3ab-2b15-4beb-8888-4ad263ae5d39"
      },
      "execution_count": null,
      "outputs": [
        {
          "output_type": "execute_result",
          "data": {
            "text/plain": [
              "Index(['Restaurant ID', 'Restaurant Name', 'Country Code', 'City', 'Address',\n",
              "       'Locality', 'Locality Verbose', 'Longitude', 'Latitude', 'Cuisines',\n",
              "       'Average Cost for two', 'Currency', 'Has Table booking',\n",
              "       'Has Online delivery', 'Is delivering now', 'Switch to order menu',\n",
              "       'Price range', 'Aggregate rating', 'Rating color', 'Rating text',\n",
              "       'Votes'],\n",
              "      dtype='object')"
            ]
          },
          "metadata": {},
          "execution_count": 4
        }
      ]
    },
    {
      "cell_type": "code",
      "source": [
        "price_range_col=\"Price range\"\n",
        "rating_col=\"Aggregate rating\"\n",
        "rating_color_col=\"Rating color\""
      ],
      "metadata": {
        "id": "_qvBWGFGTayW"
      },
      "execution_count": null,
      "outputs": []
    },
    {
      "cell_type": "code",
      "source": [
        "most_common_price_range = df[price_range_col].mode()[0]\n",
        "print(f\"The most common price range is: {most_common_price_range}\")"
      ],
      "metadata": {
        "colab": {
          "base_uri": "https://localhost:8080/"
        },
        "id": "jNkqmNFtTnBc",
        "outputId": "b5e4eb5c-1d89-4c62-aa99-2143f87dfe24"
      },
      "execution_count": null,
      "outputs": [
        {
          "output_type": "stream",
          "name": "stdout",
          "text": [
            "The most common price range is: 1\n"
          ]
        }
      ]
    },
    {
      "cell_type": "code",
      "source": [
        "avg_rating_by_price = df.groupby(price_range_col)[rating_col].mean()\n",
        "print(\"\\nAverage rating for each price range:\")\n",
        "print(avg_rating_by_price)"
      ],
      "metadata": {
        "colab": {
          "base_uri": "https://localhost:8080/"
        },
        "id": "hHP-LkD-TsVe",
        "outputId": "91f7b073-d519-45a7-8d2d-5b316dc52b5e"
      },
      "execution_count": null,
      "outputs": [
        {
          "output_type": "stream",
          "name": "stdout",
          "text": [
            "\n",
            "Average rating for each price range:\n",
            "Price range\n",
            "1    1.999887\n",
            "2    2.941054\n",
            "3    3.683381\n",
            "4    3.817918\n",
            "Name: Aggregate rating, dtype: float64\n"
          ]
        }
      ]
    },
    {
      "cell_type": "code",
      "source": [
        "highest_avg_rating_price_range = avg_rating_by_price.idxmax()\n",
        "highest_avg_rating_color = df[df[price_range_col] == highest_avg_rating_price_range][rating_color_col].mode()[0]\n"
      ],
      "metadata": {
        "id": "uZXvRLU5Twp-"
      },
      "execution_count": null,
      "outputs": []
    },
    {
      "cell_type": "code",
      "source": [
        "print(f\"\\nThe price range with the highest average rating is: {highest_avg_rating_price_range}\")\n",
        "print(f\"The color representing the highest average rating is: {highest_avg_rating_color}\")"
      ],
      "metadata": {
        "colab": {
          "base_uri": "https://localhost:8080/"
        },
        "id": "F56iwfoVT0yh",
        "outputId": "b8246fed-4873-4364-8e06-b5d7a43f070c"
      },
      "execution_count": null,
      "outputs": [
        {
          "output_type": "stream",
          "name": "stdout",
          "text": [
            "\n",
            "The price range with the highest average rating is: 4\n",
            "The color representing the highest average rating is: Yellow\n"
          ]
        }
      ]
    }
  ]
}
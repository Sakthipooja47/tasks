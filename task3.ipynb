{
  "nbformat": 4,
  "nbformat_minor": 0,
  "metadata": {
    "colab": {
      "provenance": [],
      "mount_file_id": "1ek2WOKfp2cuqVYlyJa5AAeiaouwou-D9",
      "authorship_tag": "ABX9TyOcs5A4/xhlvpWHICWJBcXf",
      "include_colab_link": true
    },
    "kernelspec": {
      "name": "python3",
      "display_name": "Python 3"
    },
    "language_info": {
      "name": "python"
    }
  },
  "cells": [
    {
      "cell_type": "markdown",
      "metadata": {
        "id": "view-in-github",
        "colab_type": "text"
      },
      "source": [
        "<a href=\"https://colab.research.google.com/github/Sakthipooja47/tasks/blob/main/task3.ipynb\" target=\"_parent\"><img src=\"https://colab.research.google.com/assets/colab-badge.svg\" alt=\"Open In Colab\"/></a>"
      ]
    },
    {
      "cell_type": "code",
      "execution_count": null,
      "metadata": {
        "id": "noFmjJ5cUskV"
      },
      "outputs": [],
      "source": [
        "import numpy as np\n",
        "import pandas as pd"
      ]
    },
    {
      "cell_type": "code",
      "source": [
        "df=pd.read_csv(\"/content/drive/MyDrive/Dataset .csv\")"
      ],
      "metadata": {
        "id": "ggp1BSsvVBOD"
      },
      "execution_count": null,
      "outputs": []
    },
    {
      "cell_type": "code",
      "source": [
        "df.columns"
      ],
      "metadata": {
        "colab": {
          "base_uri": "https://localhost:8080/"
        },
        "id": "bwiMpL3fVLAt",
        "outputId": "8d71de2e-901b-4b46-e6de-74c9d54902a2"
      },
      "execution_count": null,
      "outputs": [
        {
          "output_type": "execute_result",
          "data": {
            "text/plain": [
              "Index(['Restaurant ID', 'Restaurant Name', 'Country Code', 'City', 'Address',\n",
              "       'Locality', 'Locality Verbose', 'Longitude', 'Latitude', 'Cuisines',\n",
              "       'Average Cost for two', 'Currency', 'Has Table booking',\n",
              "       'Has Online delivery', 'Is delivering now', 'Switch to order menu',\n",
              "       'Price range', 'Aggregate rating', 'Rating color', 'Rating text',\n",
              "       'Votes'],\n",
              "      dtype='object')"
            ]
          },
          "metadata": {},
          "execution_count": 3
        }
      ]
    },
    {
      "cell_type": "code",
      "source": [
        "restaurant_name_col = \"Restaurant Name\"\n",
        "address_col = \"Address\"\n",
        "table_booking_col = \"Has Table booking\"\n",
        "online_delivery_col = \"Has Online delivery\"\n"
      ],
      "metadata": {
        "id": "uQcxQ3_RVQAX"
      },
      "execution_count": null,
      "outputs": []
    },
    {
      "cell_type": "code",
      "source": [
        "df[\"Restaurant_Name_Length\"] = df[restaurant_name_col].astype(str).apply(len)\n",
        "df[\"Address_Length\"] = df[address_col].astype(str).apply(len)"
      ],
      "metadata": {
        "id": "aOoOThbXVTQL"
      },
      "execution_count": null,
      "outputs": []
    },
    {
      "cell_type": "code",
      "source": [
        "df[\"Has_Table_Booking\"] = df[table_booking_col].str.lower().map({\"yes\": 1, \"no\": 0})\n",
        "df[\"Has_Online_Delivery\"] = df[online_delivery_col].str.lower().map({\"yes\": 1, \"no\": 0})\n"
      ],
      "metadata": {
        "id": "A4QY5ZxbVV0v"
      },
      "execution_count": null,
      "outputs": []
    },
    {
      "cell_type": "code",
      "source": [
        "df[\"Has_Table_Booking\"].fillna(0, inplace=True)\n",
        "df[\"Has_Online_Delivery\"].fillna(0, inplace=True)\n"
      ],
      "metadata": {
        "colab": {
          "base_uri": "https://localhost:8080/"
        },
        "id": "mATuFW2mVZLS",
        "outputId": "376f5959-141a-486f-8f0e-1e039521180f"
      },
      "execution_count": null,
      "outputs": [
        {
          "output_type": "stream",
          "name": "stderr",
          "text": [
            "<ipython-input-7-3e3219538ddc>:1: FutureWarning: A value is trying to be set on a copy of a DataFrame or Series through chained assignment using an inplace method.\n",
            "The behavior will change in pandas 3.0. This inplace method will never work because the intermediate object on which we are setting values always behaves as a copy.\n",
            "\n",
            "For example, when doing 'df[col].method(value, inplace=True)', try using 'df.method({col: value}, inplace=True)' or df[col] = df[col].method(value) instead, to perform the operation inplace on the original object.\n",
            "\n",
            "\n",
            "  df[\"Has_Table_Booking\"].fillna(0, inplace=True)\n",
            "<ipython-input-7-3e3219538ddc>:2: FutureWarning: A value is trying to be set on a copy of a DataFrame or Series through chained assignment using an inplace method.\n",
            "The behavior will change in pandas 3.0. This inplace method will never work because the intermediate object on which we are setting values always behaves as a copy.\n",
            "\n",
            "For example, when doing 'df[col].method(value, inplace=True)', try using 'df.method({col: value}, inplace=True)' or df[col] = df[col].method(value) instead, to perform the operation inplace on the original object.\n",
            "\n",
            "\n",
            "  df[\"Has_Online_Delivery\"].fillna(0, inplace=True)\n"
          ]
        }
      ]
    },
    {
      "cell_type": "code",
      "source": [
        "print(df[[\"Restaurant Name\", \"Restaurant_Name_Length\", \"Address\", \"Address_Length\",\n",
        "          \"Has Table booking\", \"Has_Table_Booking\", \"Has Online delivery\", \"Has_Online_Delivery\"]].head())\n"
      ],
      "metadata": {
        "colab": {
          "base_uri": "https://localhost:8080/"
        },
        "id": "oG0KdCAyVcrM",
        "outputId": "ac962215-ee62-44d0-aab2-db0bbdff5715"
      },
      "execution_count": null,
      "outputs": [
        {
          "output_type": "stream",
          "name": "stdout",
          "text": [
            "          Restaurant Name  Restaurant_Name_Length  \\\n",
            "0        Le Petit Souffle                      16   \n",
            "1        Izakaya Kikufuji                      16   \n",
            "2  Heat - Edsa Shangri-La                      22   \n",
            "3                    Ooma                       4   \n",
            "4             Sambo Kojin                      11   \n",
            "\n",
            "                                             Address  Address_Length  \\\n",
            "0  Third Floor, Century City Mall, Kalayaan Avenu...              71   \n",
            "1  Little Tokyo, 2277 Chino Roces Avenue, Legaspi...              67   \n",
            "2  Edsa Shangri-La, 1 Garden Way, Ortigas, Mandal...              56   \n",
            "3  Third Floor, Mega Fashion Hall, SM Megamall, O...              70   \n",
            "4  Third Floor, Mega Atrium, SM Megamall, Ortigas...              64   \n",
            "\n",
            "  Has Table booking  Has_Table_Booking Has Online delivery  \\\n",
            "0               Yes                  1                  No   \n",
            "1               Yes                  1                  No   \n",
            "2               Yes                  1                  No   \n",
            "3                No                  0                  No   \n",
            "4               Yes                  1                  No   \n",
            "\n",
            "   Has_Online_Delivery  \n",
            "0                    0  \n",
            "1                    0  \n",
            "2                    0  \n",
            "3                    0  \n",
            "4                    0  \n"
          ]
        }
      ]
    },
    {
      "cell_type": "code",
      "source": [
        "df.to_csv(\"restaurants_feature_engineered.csv\", index=False)"
      ],
      "metadata": {
        "id": "1TYCp7PmVgM6"
      },
      "execution_count": null,
      "outputs": []
    }
  ]
}